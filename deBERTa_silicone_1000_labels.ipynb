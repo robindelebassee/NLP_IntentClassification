{
 "cells": [
  {
   "cell_type": "markdown",
   "id": "e1391de7-402c-473d-a865-e9f6af57c32c",
   "metadata": {},
   "source": [
    "# Etude du Dataset SILICONE\n"
   ]
  },
  {
   "cell_type": "code",
   "execution_count": 1,
   "id": "9282b8a3-4945-49b5-98ec-04cc7bb4ad04",
   "metadata": {},
   "outputs": [],
   "source": [
    "from datasets import load_dataset\n",
    "import pandas as pd\n",
    "from transformers import AutoTokenizer, AutoModelForSequenceClassification, TextClassificationPipeline, Trainer, TrainingArguments\n",
    "from tqdm import tqdm\n",
    "import torch\n",
    "from torch.nn import CrossEntropyLoss\n",
    "from torch.utils.data import DataLoader, TensorDataset\n",
    "from tasknet import Adapter\n",
    "import numpy as np\n",
    "import evaluate\n",
    "from sklearn.metrics import accuracy_score\n",
    "\n",
    "from CustomTrainer import CustomTrainer"
   ]
  },
  {
   "cell_type": "markdown",
   "id": "ee0c7ac0-6c8f-4efc-a0e3-c080b6b5457f",
   "metadata": {},
   "source": [
    "# Chargement du Dataset SILICONE"
   ]
  },
  {
   "cell_type": "code",
   "execution_count": 2,
   "id": "f0b8e6e7-bc12-474d-81fd-bed6cfba08bf",
   "metadata": {},
   "outputs": [
    {
     "name": "stderr",
     "output_type": "stream",
     "text": [
      "Found cached dataset silicone (C:/Users/robin/.cache/huggingface/datasets/silicone/dyda_da/1.0.0/af617406c94e3f78da85f7ea74ebfbd3f297a9665cb54adbae305b03bc4442a5)\n"
     ]
    },
    {
     "data": {
      "application/vnd.jupyter.widget-view+json": {
       "model_id": "48d03398661548e08ae92b47865bb192",
       "version_major": 2,
       "version_minor": 0
      },
      "text/plain": [
       "  0%|          | 0/3 [00:00<?, ?it/s]"
      ]
     },
     "metadata": {},
     "output_type": "display_data"
    }
   ],
   "source": [
    "# Load SILICONE dataset in its Dyda_da config (only 4 possible dialog acts)\n",
    "\n",
    "silicone_dyda = load_dataset('silicone', 'dyda_da')\n",
    "dyda_train = silicone_dyda['train']\n",
    "dyda_valid = silicone_dyda['validation']\n",
    "dyda_test = silicone_dyda['test']"
   ]
  },
  {
   "cell_type": "code",
   "execution_count": 3,
   "id": "d4da9b35-8764-4ea9-8309-3d9e19444840",
   "metadata": {},
   "outputs": [
    {
     "data": {
      "text/plain": [
       "Dataset({\n",
       "    features: ['Utterance', 'Dialogue_Act', 'Dialogue_ID', 'Label', 'Idx'],\n",
       "    num_rows: 87170\n",
       "})"
      ]
     },
     "execution_count": 3,
     "metadata": {},
     "output_type": "execute_result"
    }
   ],
   "source": [
    "dyda_train"
   ]
  },
  {
   "cell_type": "code",
   "execution_count": 4,
   "id": "5025f95a-3610-4c42-bc86-9bcdbd503f0e",
   "metadata": {},
   "outputs": [],
   "source": [
    "num_labels = 4\n",
    "labels = ['commissive', 'directive', 'inform', 'question']\n",
    "id2label = {0: 'commissive',\n",
    "            1: 'directive', \n",
    "            2: 'inform', \n",
    "            3: 'question'\n",
    "}\n",
    "label2id = {value: key for key, value in id2label.items()}"
   ]
  },
  {
   "cell_type": "code",
   "execution_count": 5,
   "id": "825ff4c3-baef-44ec-85a7-b76a383dfffb",
   "metadata": {},
   "outputs": [
    {
     "data": {
      "text/html": [
       "<div>\n",
       "<style scoped>\n",
       "    .dataframe tbody tr th:only-of-type {\n",
       "        vertical-align: middle;\n",
       "    }\n",
       "\n",
       "    .dataframe tbody tr th {\n",
       "        vertical-align: top;\n",
       "    }\n",
       "\n",
       "    .dataframe thead th {\n",
       "        text-align: right;\n",
       "    }\n",
       "</style>\n",
       "<table border=\"1\" class=\"dataframe\">\n",
       "  <thead>\n",
       "    <tr style=\"text-align: right;\">\n",
       "      <th></th>\n",
       "      <th>Utterance</th>\n",
       "      <th>Dialogue_Act</th>\n",
       "      <th>Dialogue_ID</th>\n",
       "      <th>Label</th>\n",
       "      <th>Idx</th>\n",
       "    </tr>\n",
       "  </thead>\n",
       "  <tbody>\n",
       "    <tr>\n",
       "      <th>0</th>\n",
       "      <td>hey man , you wanna buy some weed ?</td>\n",
       "      <td>directive</td>\n",
       "      <td>1</td>\n",
       "      <td>1</td>\n",
       "      <td>0</td>\n",
       "    </tr>\n",
       "    <tr>\n",
       "      <th>1</th>\n",
       "      <td>some what ?</td>\n",
       "      <td>question</td>\n",
       "      <td>1</td>\n",
       "      <td>3</td>\n",
       "      <td>1</td>\n",
       "    </tr>\n",
       "    <tr>\n",
       "      <th>2</th>\n",
       "      <td>weed ! you know ? pot , ganja , mary jane some...</td>\n",
       "      <td>directive</td>\n",
       "      <td>1</td>\n",
       "      <td>1</td>\n",
       "      <td>2</td>\n",
       "    </tr>\n",
       "    <tr>\n",
       "      <th>3</th>\n",
       "      <td>oh , umm , no thanks .</td>\n",
       "      <td>commissive</td>\n",
       "      <td>1</td>\n",
       "      <td>0</td>\n",
       "      <td>3</td>\n",
       "    </tr>\n",
       "    <tr>\n",
       "      <th>4</th>\n",
       "      <td>i also have blow if you prefer to do a few lin...</td>\n",
       "      <td>directive</td>\n",
       "      <td>1</td>\n",
       "      <td>1</td>\n",
       "      <td>4</td>\n",
       "    </tr>\n",
       "  </tbody>\n",
       "</table>\n",
       "</div>"
      ],
      "text/plain": [
       "                                           Utterance Dialogue_Act Dialogue_ID  \\\n",
       "0                hey man , you wanna buy some weed ?    directive           1   \n",
       "1                                        some what ?     question           1   \n",
       "2  weed ! you know ? pot , ganja , mary jane some...    directive           1   \n",
       "3                             oh , umm , no thanks .   commissive           1   \n",
       "4  i also have blow if you prefer to do a few lin...    directive           1   \n",
       "\n",
       "   Label  Idx  \n",
       "0      1    0  \n",
       "1      3    1  \n",
       "2      1    2  \n",
       "3      0    3  \n",
       "4      1    4  "
      ]
     },
     "execution_count": 5,
     "metadata": {},
     "output_type": "execute_result"
    }
   ],
   "source": [
    "dyda_train_df = pd.DataFrame.from_dict(dyda_train[:])\n",
    "dyda_test_df = pd.DataFrame.from_dict(dyda_test[:])\n",
    "dyda_test_df.head()"
   ]
  },
  {
   "cell_type": "markdown",
   "id": "fc5de462-1f98-46f2-be0b-76b5a574f5eb",
   "metadata": {},
   "source": [
    "# Chargement du modèle préentraîné"
   ]
  },
  {
   "cell_type": "code",
   "execution_count": 6,
   "id": "4bb09fbb-1885-41ac-94f5-da545758457a",
   "metadata": {},
   "outputs": [
    {
     "name": "stderr",
     "output_type": "stream",
     "text": [
      "Special tokens have been added in the vocabulary, make sure the associated word embeddings are fine-tuned or trained.\n",
      "C:\\Users\\robin\\AppData\\Roaming\\Python\\Python310\\site-packages\\transformers\\convert_slow_tokenizer.py:446: UserWarning: The sentencepiece tokenizer that you are converting to a fast tokenizer uses the byte fallback option which is not implemented in the fast tokenizers. In practice this means that the fast version of the tokenizer can produce unknown tokens whereas the sentencepiece version would have converted these unknown tokens into a sequence of byte tokens matching the original piece of text.\n",
      "  warnings.warn(\n",
      "Special tokens have been added in the vocabulary, make sure the associated word embeddings are fine-tuned or trained.\n",
      "Some weights of the model checkpoint at microsoft/deberta-v3-base were not used when initializing DebertaV2ForSequenceClassification: ['mask_predictions.dense.bias', 'mask_predictions.LayerNorm.weight', 'mask_predictions.LayerNorm.bias', 'lm_predictions.lm_head.bias', 'mask_predictions.classifier.weight', 'lm_predictions.lm_head.LayerNorm.bias', 'mask_predictions.dense.weight', 'lm_predictions.lm_head.LayerNorm.weight', 'lm_predictions.lm_head.dense.bias', 'lm_predictions.lm_head.dense.weight', 'mask_predictions.classifier.bias']\n",
      "- This IS expected if you are initializing DebertaV2ForSequenceClassification from the checkpoint of a model trained on another task or with another architecture (e.g. initializing a BertForSequenceClassification model from a BertForPreTraining model).\n",
      "- This IS NOT expected if you are initializing DebertaV2ForSequenceClassification from the checkpoint of a model that you expect to be exactly identical (initializing a BertForSequenceClassification model from a BertForSequenceClassification model).\n",
      "Some weights of DebertaV2ForSequenceClassification were not initialized from the model checkpoint at microsoft/deberta-v3-base and are newly initialized: ['pooler.dense.weight', 'classifier.weight', 'pooler.dense.bias', 'classifier.bias']\n",
      "You should probably TRAIN this model on a down-stream task to be able to use it for predictions and inference.\n"
     ]
    }
   ],
   "source": [
    "device = 'cuda' if torch.cuda.is_available() else 'cpu'\n",
    "\n",
    "model_name = 'microsoft/deberta-v3-base'\n",
    "\n",
    "tokenizer = AutoTokenizer.from_pretrained(model_name)\n",
    "\n",
    "model = AutoModelForSequenceClassification.from_pretrained(model_name, \n",
    "    ignore_mismatched_sizes=True,\n",
    "    num_labels=num_labels, \n",
    "    #id2label=id2label, label2id=label2id\n",
    ").to(device)\n",
    "\n",
    "classifier = TextClassificationPipeline(model=model, tokenizer=tokenizer)\n"
   ]
  },
  {
   "cell_type": "markdown",
   "id": "7ae9096a-a384-4e30-9797-8101c1eac05f",
   "metadata": {
    "jp-MarkdownHeadingCollapsed": true,
    "tags": []
   },
   "source": [
    "# First Preprocessing"
   ]
  },
  {
   "cell_type": "code",
   "execution_count": 7,
   "id": "fbd0ce20-bb08-4ff1-b0e8-ea658728d234",
   "metadata": {},
   "outputs": [
    {
     "data": {
      "application/vnd.jupyter.widget-view+json": {
       "model_id": "81bda727a49040fb8797eb5b44e60ee7",
       "version_major": 2,
       "version_minor": 0
      },
      "text/plain": [
       "  0%|          | 0/9 [00:00<?, ?ba/s]"
      ]
     },
     "metadata": {},
     "output_type": "display_data"
    },
    {
     "data": {
      "application/vnd.jupyter.widget-view+json": {
       "model_id": "057cc554ef4a412facb91d23649db701",
       "version_major": 2,
       "version_minor": 0
      },
      "text/plain": [
       "  0%|          | 0/88 [00:00<?, ?ba/s]"
      ]
     },
     "metadata": {},
     "output_type": "display_data"
    }
   ],
   "source": [
    "def tokenize_function(example):\n",
    "    return tokenizer(example[\"Utterance\"], truncation=True, max_length=128)\n",
    "\n",
    "valid_tkz = dyda_valid.map(tokenize_function, batched=True)\n",
    "train_tkz = dyda_train.map(tokenize_function, batched=True)"
   ]
  },
  {
   "cell_type": "code",
   "execution_count": 8,
   "id": "60ef2ee1-81c9-43ae-b4a0-e1c2c0ac39b9",
   "metadata": {},
   "outputs": [
    {
     "data": {
      "text/plain": [
       "Dataset({\n",
       "    features: ['Utterance', 'Dialogue_Act', 'Dialogue_ID', 'Label', 'Idx', 'input_ids', 'token_type_ids', 'attention_mask'],\n",
       "    num_rows: 87170\n",
       "})"
      ]
     },
     "execution_count": 8,
     "metadata": {},
     "output_type": "execute_result"
    }
   ],
   "source": [
    "train_tkz"
   ]
  },
  {
   "cell_type": "code",
   "execution_count": 9,
   "id": "a03f4517-1343-4b05-bc24-4531e87e947d",
   "metadata": {},
   "outputs": [
    {
     "data": {
      "text/plain": [
       "[16, 16, 14, 27, 24, 23, 32, 31]"
      ]
     },
     "execution_count": 9,
     "metadata": {},
     "output_type": "execute_result"
    }
   ],
   "source": [
    "from transformers import DataCollatorWithPadding\n",
    "\n",
    "data_collator = DataCollatorWithPadding(tokenizer=tokenizer)\n",
    "\n",
    "samples = train_tkz[:8]\n",
    "samples = {k: v for k, v in samples.items() if k not in [\"Utterance\", \"Dialogue_Act\", \"Idx\", \"Dialogue_ID\"]}\n",
    "[len(x) for x in samples[\"input_ids\"]]"
   ]
  },
  {
   "cell_type": "code",
   "execution_count": 10,
   "id": "2dc6d730-d58c-41bc-8df5-4491240a14dd",
   "metadata": {},
   "outputs": [
    {
     "name": "stderr",
     "output_type": "stream",
     "text": [
      "You're using a DebertaV2TokenizerFast tokenizer. Please note that with a fast tokenizer, using the `__call__` method is faster than using a method to encode the text followed by a call to the `pad` method to get a padded encoding.\n"
     ]
    },
    {
     "data": {
      "text/plain": [
       "{'Label': torch.Size([8]),\n",
       " 'input_ids': torch.Size([8, 32]),\n",
       " 'token_type_ids': torch.Size([8, 32]),\n",
       " 'attention_mask': torch.Size([8, 32])}"
      ]
     },
     "execution_count": 10,
     "metadata": {},
     "output_type": "execute_result"
    }
   ],
   "source": [
    "batch = data_collator(samples)\n",
    "{k: v.shape for k, v in batch.items()}"
   ]
  },
  {
   "cell_type": "code",
   "execution_count": 11,
   "id": "dc97457e-f460-4806-9805-9eb19a9e84fa",
   "metadata": {},
   "outputs": [],
   "source": [
    "train_sample = train_tkz[:200]\n",
    "train_sample = {k: v for k, v in train_sample.items() if k not in [\"Utterance\", \"Dialogue_Act\", \"Idx\", \"Dialogue_ID\"]}\n",
    "\n",
    "valid_sample = valid_tkz[:100]\n",
    "valid_sample = {k: v for k, v in valid_sample.items() if k not in [\"Utterance\", \"Dialogue_Act\", \"Idx\", \"Dialogue_ID\"]}"
   ]
  },
  {
   "cell_type": "markdown",
   "id": "1a213b53-87d7-4641-a8a5-89f99cd104f9",
   "metadata": {},
   "source": [
    "# Preprocessing V2"
   ]
  },
  {
   "cell_type": "code",
   "execution_count": 19,
   "id": "a7dbf7ad-fef6-4956-82d5-4e7360fbb968",
   "metadata": {},
   "outputs": [],
   "source": [
    "# build smaller dataset\n",
    "\n",
    "dyda_train_sample = dyda_train[:1000]\n",
    "dyda_valid_sample = dyda_valid[:200]\n",
    "dyda_test_sample = dyda_test[:200]"
   ]
  },
  {
   "cell_type": "code",
   "execution_count": 20,
   "id": "8fde492a-74d8-49bb-913a-6b82ce7ec436",
   "metadata": {},
   "outputs": [],
   "source": [
    "train_inputs = tokenizer(dyda_train_sample['Utterance'], padding='max_length', truncation=True, max_length=128, return_tensors='pt')\n",
    "valid_inputs = tokenizer(dyda_valid_sample['Utterance'], padding='max_length', truncation=True, max_length=128, return_tensors='pt')\n",
    "test_inputs = tokenizer(dyda_test_sample['Utterance'], padding='max_length', truncation=True, max_length=128, return_tensors='pt')\n",
    "\n",
    "#train_labels = tokenizer(dyda_train['Dialogue_Act'], padding='max_length', truncation=True, max_length=512, return_tensors='pt')\n",
    "#valid_labels = tokenizer(dyda_valid['Dialogue_Act'], padding='max_length', truncation=True, max_length=512, return_tensors='pt')"
   ]
  },
  {
   "cell_type": "code",
   "execution_count": 21,
   "id": "e9c77c3e-bfd4-4d1c-ad06-4cd878cdf248",
   "metadata": {},
   "outputs": [
    {
     "data": {
      "text/plain": [
       "{'input_ids': tensor([[   1,  504,  366,  ...,    0,    0,    0],\n",
       "        [   1,  274,  391,  ...,    0,    0,    0],\n",
       "        [   1,  339,  333,  ...,    0,    0,    0],\n",
       "        ...,\n",
       "        [   1, 9520,  358,  ...,    0,    0,    0],\n",
       "        [   1,  278,  521,  ...,    0,    0,    0],\n",
       "        [   1, 6359,  366,  ...,    0,    0,    0]]), 'token_type_ids': tensor([[0, 0, 0,  ..., 0, 0, 0],\n",
       "        [0, 0, 0,  ..., 0, 0, 0],\n",
       "        [0, 0, 0,  ..., 0, 0, 0],\n",
       "        ...,\n",
       "        [0, 0, 0,  ..., 0, 0, 0],\n",
       "        [0, 0, 0,  ..., 0, 0, 0],\n",
       "        [0, 0, 0,  ..., 0, 0, 0]]), 'attention_mask': tensor([[1, 1, 1,  ..., 0, 0, 0],\n",
       "        [1, 1, 1,  ..., 0, 0, 0],\n",
       "        [1, 1, 1,  ..., 0, 0, 0],\n",
       "        ...,\n",
       "        [1, 1, 1,  ..., 0, 0, 0],\n",
       "        [1, 1, 1,  ..., 0, 0, 0],\n",
       "        [1, 1, 1,  ..., 0, 0, 0]])}"
      ]
     },
     "execution_count": 21,
     "metadata": {},
     "output_type": "execute_result"
    }
   ],
   "source": [
    "train_inputs"
   ]
  },
  {
   "cell_type": "code",
   "execution_count": 22,
   "id": "f1ee2c8b-4cf8-4395-a4d3-c7c20f7c70f2",
   "metadata": {},
   "outputs": [],
   "source": [
    "# Create a TensorDataset from the input data and labels\n",
    "train_dataset = TensorDataset(train_inputs['input_ids'], train_inputs['attention_mask'], train_inputs['token_type_ids'], torch.tensor(dyda_train_sample['Label']))\n",
    "valid_dataset = TensorDataset(valid_inputs['input_ids'], valid_inputs['attention_mask'], valid_inputs['token_type_ids'], torch.tensor(dyda_valid_sample['Label']))\n",
    "test_dataset = TensorDataset(test_inputs['input_ids'], test_inputs['attention_mask'], test_inputs['token_type_ids'], torch.tensor(dyda_test_sample['Label']))\n",
    "\n",
    "# Create DataLoader objects for the training and validation sets\n",
    "#train_loader = DataLoader(train_dataset, batch_size=16, shuffle=True)\n",
    "#valid_loader = DataLoader(valid_dataset, batch_size=16)"
   ]
  },
  {
   "cell_type": "code",
   "execution_count": null,
   "id": "f3ab0263-93fc-4b7e-b088-f5d1789c8182",
   "metadata": {},
   "outputs": [],
   "source": []
  },
  {
   "cell_type": "markdown",
   "id": "fe42f221-2d09-4a8f-92ac-1dc607841809",
   "metadata": {},
   "source": [
    "# Training"
   ]
  },
  {
   "cell_type": "code",
   "execution_count": 23,
   "id": "4f89600c-a19d-4d4a-806a-8f929f08ea0d",
   "metadata": {},
   "outputs": [],
   "source": [
    "def compute_metrics(eval_preds):\n",
    "    metric = evaluate.load(\"glue\", \"mnli\")\n",
    "    logits, labels = eval_preds\n",
    "    predictions = np.argmax(logits, axis=-1)\n",
    "    return metric.compute(predictions=predictions, references=labels)"
   ]
  },
  {
   "cell_type": "code",
   "execution_count": 24,
   "id": "d476a887-0582-45b1-8067-9734f89965ae",
   "metadata": {},
   "outputs": [
    {
     "name": "stderr",
     "output_type": "stream",
     "text": [
      "PyTorch: setting up devices\n",
      "The default value for the training argument `--report_to` will change in v5 (from all installed integrations to none). In v5, you will need to use `--report_to all` to get the same behavior as now. You should start updating your code and make this info disappear :-).\n",
      "C:\\Users\\robin\\AppData\\Roaming\\Python\\Python310\\site-packages\\transformers\\optimization.py:306: FutureWarning: This implementation of AdamW is deprecated and will be removed in a future version. Use the PyTorch implementation torch.optim.AdamW instead, or set `no_deprecation_warning=True` to disable this warning\n",
      "  warnings.warn(\n",
      "***** Running training *****\n",
      "  Num examples = 1000\n",
      "  Num Epochs = 3\n",
      "  Instantaneous batch size per device = 16\n",
      "  Total train batch size (w. parallel, distributed & accumulation) = 16\n",
      "  Gradient Accumulation steps = 1\n",
      "  Total optimization steps = 189\n",
      "  Number of trainable parameters = 184425220\n"
     ]
    },
    {
     "name": "stdout",
     "output_type": "stream",
     "text": [
      "Labels found\n",
      "tensor(1.2075, grad_fn=<NllLossBackward0>)\n"
     ]
    },
    {
     "data": {
      "text/html": [
       "\n",
       "    <div>\n",
       "      \n",
       "      <progress value='189' max='189' style='width:300px; height:20px; vertical-align: middle;'></progress>\n",
       "      [189/189 37:41, Epoch 3/3]\n",
       "    </div>\n",
       "    <table border=\"1\" class=\"dataframe\">\n",
       "  <thead>\n",
       " <tr style=\"text-align: left;\">\n",
       "      <th>Step</th>\n",
       "      <th>Training Loss</th>\n",
       "      <th>Validation Loss</th>\n",
       "      <th>Accuracy</th>\n",
       "    </tr>\n",
       "  </thead>\n",
       "  <tbody>\n",
       "    <tr>\n",
       "      <td>50</td>\n",
       "      <td>1.034300</td>\n",
       "      <td>1.085936</td>\n",
       "      <td>0.565000</td>\n",
       "    </tr>\n",
       "    <tr>\n",
       "      <td>100</td>\n",
       "      <td>0.451800</td>\n",
       "      <td>0.760842</td>\n",
       "      <td>0.665000</td>\n",
       "    </tr>\n",
       "    <tr>\n",
       "      <td>150</td>\n",
       "      <td>0.428900</td>\n",
       "      <td>0.801556</td>\n",
       "      <td>0.660000</td>\n",
       "    </tr>\n",
       "  </tbody>\n",
       "</table><p>"
      ],
      "text/plain": [
       "<IPython.core.display.HTML object>"
      ]
     },
     "metadata": {},
     "output_type": "display_data"
    },
    {
     "name": "stdout",
     "output_type": "stream",
     "text": [
      "Labels found\n",
      "tensor(1.1248, grad_fn=<NllLossBackward0>)\n",
      "Labels found\n",
      "tensor(1.2208, grad_fn=<NllLossBackward0>)\n",
      "Labels found\n",
      "tensor(1.2197, grad_fn=<NllLossBackward0>)\n",
      "Labels found\n",
      "tensor(1.2241, grad_fn=<NllLossBackward0>)\n",
      "Labels found\n",
      "tensor(1.1884, grad_fn=<NllLossBackward0>)\n",
      "Labels found\n",
      "tensor(1.1349, grad_fn=<NllLossBackward0>)\n",
      "Labels found\n",
      "tensor(1.1553, grad_fn=<NllLossBackward0>)\n",
      "Labels found\n",
      "tensor(1.1643, grad_fn=<NllLossBackward0>)\n",
      "Labels found\n",
      "tensor(1.1742, grad_fn=<NllLossBackward0>)\n",
      "Labels found\n",
      "tensor(1.2716, grad_fn=<NllLossBackward0>)\n",
      "Labels found\n",
      "tensor(1.1728, grad_fn=<NllLossBackward0>)\n",
      "Labels found\n",
      "tensor(1.1627, grad_fn=<NllLossBackward0>)\n",
      "Labels found\n",
      "tensor(1.2228, grad_fn=<NllLossBackward0>)\n",
      "Labels found\n",
      "tensor(1.2157, grad_fn=<NllLossBackward0>)\n",
      "Labels found\n",
      "tensor(1.2128, grad_fn=<NllLossBackward0>)\n",
      "Labels found\n",
      "tensor(1.2007, grad_fn=<NllLossBackward0>)\n",
      "Labels found\n",
      "tensor(1.1487, grad_fn=<NllLossBackward0>)\n",
      "Labels found\n",
      "tensor(1.1692, grad_fn=<NllLossBackward0>)\n",
      "Labels found\n",
      "tensor(1.1709, grad_fn=<NllLossBackward0>)\n",
      "Labels found\n",
      "tensor(1.1855, grad_fn=<NllLossBackward0>)\n",
      "Labels found\n",
      "tensor(1.1124, grad_fn=<NllLossBackward0>)\n",
      "Labels found\n",
      "tensor(1.0672, grad_fn=<NllLossBackward0>)\n",
      "Labels found\n",
      "tensor(1.2087, grad_fn=<NllLossBackward0>)\n",
      "Labels found\n",
      "tensor(1.1791, grad_fn=<NllLossBackward0>)\n",
      "Labels found\n",
      "tensor(1.1600, grad_fn=<NllLossBackward0>)\n",
      "Labels found\n",
      "tensor(1.1567, grad_fn=<NllLossBackward0>)\n",
      "Labels found\n",
      "tensor(1.1581, grad_fn=<NllLossBackward0>)\n",
      "Labels found\n",
      "tensor(1.1341, grad_fn=<NllLossBackward0>)\n",
      "Labels found\n",
      "tensor(1.1470, grad_fn=<NllLossBackward0>)\n",
      "Labels found\n",
      "tensor(1.1867, grad_fn=<NllLossBackward0>)\n",
      "Labels found\n",
      "tensor(1.1500, grad_fn=<NllLossBackward0>)\n",
      "Labels found\n",
      "tensor(1.1954, grad_fn=<NllLossBackward0>)\n",
      "Labels found\n",
      "tensor(1.1624, grad_fn=<NllLossBackward0>)\n",
      "Labels found\n",
      "tensor(1.1176, grad_fn=<NllLossBackward0>)\n",
      "Labels found\n",
      "tensor(1.1334, grad_fn=<NllLossBackward0>)\n",
      "Labels found\n",
      "tensor(1.1297, grad_fn=<NllLossBackward0>)\n",
      "Labels found\n",
      "tensor(1.0523, grad_fn=<NllLossBackward0>)\n",
      "Labels found\n",
      "tensor(1.0213, grad_fn=<NllLossBackward0>)\n",
      "Labels found\n",
      "tensor(1.1182, grad_fn=<NllLossBackward0>)\n",
      "Labels found\n",
      "tensor(1.0692, grad_fn=<NllLossBackward0>)\n",
      "Labels found\n",
      "tensor(1.1761, grad_fn=<NllLossBackward0>)\n",
      "Labels found\n",
      "tensor(1.0348, grad_fn=<NllLossBackward0>)\n",
      "Labels found\n",
      "tensor(1.0074, grad_fn=<NllLossBackward0>)\n",
      "Labels found\n",
      "tensor(0.9604, grad_fn=<NllLossBackward0>)\n",
      "Labels found\n",
      "tensor(1.1181, grad_fn=<NllLossBackward0>)\n",
      "Labels found\n",
      "tensor(1.0670, grad_fn=<NllLossBackward0>)\n",
      "Labels found\n",
      "tensor(0.9626, grad_fn=<NllLossBackward0>)\n",
      "Labels found\n",
      "tensor(0.9711, grad_fn=<NllLossBackward0>)\n",
      "Labels found\n",
      "tensor(0.9759, grad_fn=<NllLossBackward0>)\n"
     ]
    },
    {
     "name": "stderr",
     "output_type": "stream",
     "text": [
      "***** Running Evaluation *****\n",
      "  Num examples = 200\n",
      "  Batch size = 64\n"
     ]
    },
    {
     "name": "stdout",
     "output_type": "stream",
     "text": [
      "Labels found\n",
      "tensor(1.0044)\n",
      "Labels found\n",
      "tensor(1.1832)\n",
      "Labels found\n",
      "tensor(1.0786)\n",
      "Labels found\n",
      "tensor(1.0187)\n"
     ]
    },
    {
     "name": "stderr",
     "output_type": "stream",
     "text": [
      "Saving model checkpoint to ./results\\checkpoint-50\n",
      "Configuration saved in ./results\\checkpoint-50\\config.json\n",
      "Model weights saved in ./results\\checkpoint-50\\pytorch_model.bin\n",
      "Deleting older checkpoint [results\\checkpoint-1200] due to args.save_total_limit\n"
     ]
    },
    {
     "name": "stdout",
     "output_type": "stream",
     "text": [
      "Labels found\n",
      "tensor(0.8618, grad_fn=<NllLossBackward0>)\n",
      "Labels found\n",
      "tensor(1.0041, grad_fn=<NllLossBackward0>)\n",
      "Labels found\n",
      "tensor(1.1532, grad_fn=<NllLossBackward0>)\n",
      "Labels found\n",
      "tensor(1.0028, grad_fn=<NllLossBackward0>)\n",
      "Labels found\n",
      "tensor(1.0012, grad_fn=<NllLossBackward0>)\n",
      "Labels found\n",
      "tensor(0.7952, grad_fn=<NllLossBackward0>)\n",
      "Labels found\n",
      "tensor(0.8400, grad_fn=<NllLossBackward0>)\n",
      "Labels found\n",
      "tensor(0.9843, grad_fn=<NllLossBackward0>)\n",
      "Labels found\n",
      "tensor(0.7260, grad_fn=<NllLossBackward0>)\n",
      "Labels found\n",
      "tensor(0.8961, grad_fn=<NllLossBackward0>)\n",
      "Labels found\n",
      "tensor(0.8270, grad_fn=<NllLossBackward0>)\n",
      "Labels found\n",
      "tensor(0.9467, grad_fn=<NllLossBackward0>)\n",
      "Labels found\n",
      "tensor(0.6696, grad_fn=<NllLossBackward0>)\n",
      "Labels found\n",
      "tensor(0.8248, grad_fn=<NllLossBackward0>)\n",
      "Labels found\n",
      "tensor(0.7335, grad_fn=<NllLossBackward0>)\n",
      "Labels found\n",
      "tensor(1.0076, grad_fn=<NllLossBackward0>)\n",
      "Labels found\n",
      "tensor(0.9922, grad_fn=<NllLossBackward0>)\n",
      "Labels found\n",
      "tensor(0.7179, grad_fn=<NllLossBackward0>)\n",
      "Labels found\n",
      "tensor(0.9338, grad_fn=<NllLossBackward0>)\n",
      "Labels found\n",
      "tensor(0.8594, grad_fn=<NllLossBackward0>)\n",
      "Labels found\n",
      "tensor(0.7267, grad_fn=<NllLossBackward0>)\n",
      "Labels found\n",
      "tensor(0.7596, grad_fn=<NllLossBackward0>)\n",
      "Labels found\n",
      "tensor(0.7581, grad_fn=<NllLossBackward0>)\n",
      "Labels found\n",
      "tensor(0.6471, grad_fn=<NllLossBackward0>)\n",
      "Labels found\n",
      "tensor(0.6224, grad_fn=<NllLossBackward0>)\n",
      "Labels found\n",
      "tensor(0.8251, grad_fn=<NllLossBackward0>)\n",
      "Labels found\n",
      "tensor(0.6604, grad_fn=<NllLossBackward0>)\n",
      "Labels found\n",
      "tensor(0.5794, grad_fn=<NllLossBackward0>)\n",
      "Labels found\n",
      "tensor(0.8726, grad_fn=<NllLossBackward0>)\n",
      "Labels found\n",
      "tensor(0.5454, grad_fn=<NllLossBackward0>)\n",
      "Labels found\n",
      "tensor(0.4149, grad_fn=<NllLossBackward0>)\n",
      "Labels found\n",
      "tensor(0.6746, grad_fn=<NllLossBackward0>)\n",
      "Labels found\n",
      "tensor(0.8169, grad_fn=<NllLossBackward0>)\n",
      "Labels found\n",
      "tensor(0.4395, grad_fn=<NllLossBackward0>)\n",
      "Labels found\n",
      "tensor(0.8595, grad_fn=<NllLossBackward0>)\n",
      "Labels found\n",
      "tensor(0.7580, grad_fn=<NllLossBackward0>)\n",
      "Labels found\n",
      "tensor(0.6488, grad_fn=<NllLossBackward0>)\n",
      "Labels found\n",
      "tensor(0.2766, grad_fn=<NllLossBackward0>)\n",
      "Labels found\n",
      "tensor(0.4878, grad_fn=<NllLossBackward0>)\n",
      "Labels found\n",
      "tensor(0.5970, grad_fn=<NllLossBackward0>)\n",
      "Labels found\n",
      "tensor(0.4451, grad_fn=<NllLossBackward0>)\n",
      "Labels found\n",
      "tensor(0.5198, grad_fn=<NllLossBackward0>)\n",
      "Labels found\n",
      "tensor(0.3644, grad_fn=<NllLossBackward0>)\n",
      "Labels found\n",
      "tensor(0.5078, grad_fn=<NllLossBackward0>)\n",
      "Labels found\n",
      "tensor(0.6586, grad_fn=<NllLossBackward0>)\n",
      "Labels found\n",
      "tensor(0.2324, grad_fn=<NllLossBackward0>)\n",
      "Labels found\n",
      "tensor(0.4815, grad_fn=<NllLossBackward0>)\n",
      "Labels found\n",
      "tensor(0.5166, grad_fn=<NllLossBackward0>)\n",
      "Labels found\n",
      "tensor(0.3412, grad_fn=<NllLossBackward0>)\n",
      "Labels found\n",
      "tensor(0.4502, grad_fn=<NllLossBackward0>)\n"
     ]
    },
    {
     "name": "stderr",
     "output_type": "stream",
     "text": [
      "***** Running Evaluation *****\n",
      "  Num examples = 200\n",
      "  Batch size = 64\n"
     ]
    },
    {
     "name": "stdout",
     "output_type": "stream",
     "text": [
      "Labels found\n",
      "tensor(0.6781)\n",
      "Labels found\n",
      "tensor(0.9090)\n",
      "Labels found\n",
      "tensor(0.7284)\n",
      "Labels found\n",
      "tensor(0.4964)\n"
     ]
    },
    {
     "name": "stderr",
     "output_type": "stream",
     "text": [
      "Saving model checkpoint to ./results\\checkpoint-100\n",
      "Configuration saved in ./results\\checkpoint-100\\config.json\n",
      "Model weights saved in ./results\\checkpoint-100\\pytorch_model.bin\n",
      "Deleting older checkpoint [results\\checkpoint-1250] due to args.save_total_limit\n"
     ]
    },
    {
     "name": "stdout",
     "output_type": "stream",
     "text": [
      "Labels found\n",
      "tensor(0.5680, grad_fn=<NllLossBackward0>)\n",
      "Labels found\n",
      "tensor(0.5245, grad_fn=<NllLossBackward0>)\n",
      "Labels found\n",
      "tensor(0.4876, grad_fn=<NllLossBackward0>)\n",
      "Labels found\n",
      "tensor(0.4085, grad_fn=<NllLossBackward0>)\n",
      "Labels found\n",
      "tensor(0.4166, grad_fn=<NllLossBackward0>)\n",
      "Labels found\n",
      "tensor(0.3103, grad_fn=<NllLossBackward0>)\n",
      "Labels found\n",
      "tensor(1.2012, grad_fn=<NllLossBackward0>)\n",
      "Labels found\n",
      "tensor(0.3892, grad_fn=<NllLossBackward0>)\n",
      "Labels found\n",
      "tensor(0.3816, grad_fn=<NllLossBackward0>)\n",
      "Labels found\n",
      "tensor(0.4084, grad_fn=<NllLossBackward0>)\n",
      "Labels found\n",
      "tensor(0.2083, grad_fn=<NllLossBackward0>)\n",
      "Labels found\n",
      "tensor(0.4001, grad_fn=<NllLossBackward0>)\n",
      "Labels found\n",
      "tensor(0.3152, grad_fn=<NllLossBackward0>)\n",
      "Labels found\n",
      "tensor(0.4890, grad_fn=<NllLossBackward0>)\n",
      "Labels found\n",
      "tensor(0.2406, grad_fn=<NllLossBackward0>)\n",
      "Labels found\n",
      "tensor(0.2422, grad_fn=<NllLossBackward0>)\n",
      "Labels found\n",
      "tensor(0.2331, grad_fn=<NllLossBackward0>)\n",
      "Labels found\n",
      "tensor(0.6227, grad_fn=<NllLossBackward0>)\n",
      "Labels found\n",
      "tensor(0.1920, grad_fn=<NllLossBackward0>)\n",
      "Labels found\n",
      "tensor(0.3470, grad_fn=<NllLossBackward0>)\n",
      "Labels found\n",
      "tensor(0.2892, grad_fn=<NllLossBackward0>)\n",
      "Labels found\n",
      "tensor(0.1799, grad_fn=<NllLossBackward0>)\n",
      "Labels found\n",
      "tensor(0.7418, grad_fn=<NllLossBackward0>)\n",
      "Labels found\n",
      "tensor(0.7489, grad_fn=<NllLossBackward0>)\n",
      "Labels found\n",
      "tensor(0.8081, grad_fn=<NllLossBackward0>)\n",
      "Labels found\n",
      "tensor(0.0905, grad_fn=<NllLossBackward0>)\n",
      "Labels found\n",
      "tensor(0.3666, grad_fn=<NllLossBackward0>)\n",
      "Labels found\n",
      "tensor(0.2501, grad_fn=<NllLossBackward0>)\n",
      "Labels found\n",
      "tensor(0.3769, grad_fn=<NllLossBackward0>)\n",
      "Labels found\n",
      "tensor(0.3017, grad_fn=<NllLossBackward0>)\n",
      "Labels found\n",
      "tensor(0.4625, grad_fn=<NllLossBackward0>)\n",
      "Labels found\n",
      "tensor(0.7109, grad_fn=<NllLossBackward0>)\n",
      "Labels found\n",
      "tensor(0.1489, grad_fn=<NllLossBackward0>)\n",
      "Labels found\n",
      "tensor(0.5789, grad_fn=<NllLossBackward0>)\n",
      "Labels found\n",
      "tensor(1.0633, grad_fn=<NllLossBackward0>)\n",
      "Labels found\n",
      "tensor(0.2653, grad_fn=<NllLossBackward0>)\n",
      "Labels found\n",
      "tensor(0.3060, grad_fn=<NllLossBackward0>)\n",
      "Labels found\n",
      "tensor(0.2058, grad_fn=<NllLossBackward0>)\n",
      "Labels found\n",
      "tensor(0.1677, grad_fn=<NllLossBackward0>)\n",
      "Labels found\n",
      "tensor(0.3125, grad_fn=<NllLossBackward0>)\n",
      "Labels found\n",
      "tensor(0.4843, grad_fn=<NllLossBackward0>)\n",
      "Labels found\n",
      "tensor(0.5940, grad_fn=<NllLossBackward0>)\n",
      "Labels found\n",
      "tensor(0.5930, grad_fn=<NllLossBackward0>)\n",
      "Labels found\n",
      "tensor(0.4678, grad_fn=<NllLossBackward0>)\n",
      "Labels found\n",
      "tensor(0.3718, grad_fn=<NllLossBackward0>)\n",
      "Labels found\n",
      "tensor(0.4415, grad_fn=<NllLossBackward0>)\n",
      "Labels found\n",
      "tensor(0.8560, grad_fn=<NllLossBackward0>)\n",
      "Labels found\n",
      "tensor(0.0896, grad_fn=<NllLossBackward0>)\n",
      "Labels found\n",
      "tensor(0.2664, grad_fn=<NllLossBackward0>)\n",
      "Labels found\n",
      "tensor(0.1249, grad_fn=<NllLossBackward0>)\n"
     ]
    },
    {
     "name": "stderr",
     "output_type": "stream",
     "text": [
      "***** Running Evaluation *****\n",
      "  Num examples = 200\n",
      "  Batch size = 64\n"
     ]
    },
    {
     "name": "stdout",
     "output_type": "stream",
     "text": [
      "Labels found\n",
      "tensor(0.8738)\n",
      "Labels found\n",
      "tensor(0.8790)\n",
      "Labels found\n",
      "tensor(0.6974)\n",
      "Labels found\n",
      "tensor(0.4378)\n"
     ]
    },
    {
     "name": "stderr",
     "output_type": "stream",
     "text": [
      "Saving model checkpoint to ./results\\checkpoint-150\n",
      "Configuration saved in ./results\\checkpoint-150\\config.json\n",
      "Model weights saved in ./results\\checkpoint-150\\pytorch_model.bin\n",
      "Deleting older checkpoint [results\\checkpoint-50] due to args.save_total_limit\n"
     ]
    },
    {
     "name": "stdout",
     "output_type": "stream",
     "text": [
      "Labels found\n",
      "tensor(0.7996, grad_fn=<NllLossBackward0>)\n",
      "Labels found\n",
      "tensor(0.2914, grad_fn=<NllLossBackward0>)\n",
      "Labels found\n",
      "tensor(0.6523, grad_fn=<NllLossBackward0>)\n",
      "Labels found\n",
      "tensor(0.3515, grad_fn=<NllLossBackward0>)\n",
      "Labels found\n",
      "tensor(0.1466, grad_fn=<NllLossBackward0>)\n",
      "Labels found\n",
      "tensor(0.3344, grad_fn=<NllLossBackward0>)\n",
      "Labels found\n",
      "tensor(0.6816, grad_fn=<NllLossBackward0>)\n",
      "Labels found\n",
      "tensor(0.4684, grad_fn=<NllLossBackward0>)\n",
      "Labels found\n",
      "tensor(0.2647, grad_fn=<NllLossBackward0>)\n",
      "Labels found\n",
      "tensor(0.4515, grad_fn=<NllLossBackward0>)\n",
      "Labels found\n",
      "tensor(0.2130, grad_fn=<NllLossBackward0>)\n",
      "Labels found\n",
      "tensor(0.1637, grad_fn=<NllLossBackward0>)\n",
      "Labels found\n",
      "tensor(0.4327, grad_fn=<NllLossBackward0>)\n",
      "Labels found\n",
      "tensor(0.4467, grad_fn=<NllLossBackward0>)\n",
      "Labels found\n",
      "tensor(0.5302, grad_fn=<NllLossBackward0>)\n",
      "Labels found\n",
      "tensor(0.6924, grad_fn=<NllLossBackward0>)\n",
      "Labels found\n",
      "tensor(0.1585, grad_fn=<NllLossBackward0>)\n",
      "Labels found\n",
      "tensor(0.3812, grad_fn=<NllLossBackward0>)\n",
      "Labels found\n",
      "tensor(0.5087, grad_fn=<NllLossBackward0>)\n",
      "Labels found\n",
      "tensor(0.2407, grad_fn=<NllLossBackward0>)\n",
      "Labels found\n",
      "tensor(0.2247, grad_fn=<NllLossBackward0>)\n",
      "Labels found\n",
      "tensor(0.5323, grad_fn=<NllLossBackward0>)\n",
      "Labels found\n",
      "tensor(0.3147, grad_fn=<NllLossBackward0>)\n",
      "Labels found\n",
      "tensor(0.4449, grad_fn=<NllLossBackward0>)\n",
      "Labels found\n",
      "tensor(0.5787, grad_fn=<NllLossBackward0>)\n",
      "Labels found\n",
      "tensor(0.5916, grad_fn=<NllLossBackward0>)\n",
      "Labels found\n",
      "tensor(0.7189, grad_fn=<NllLossBackward0>)\n",
      "Labels found\n",
      "tensor(1.0957, grad_fn=<NllLossBackward0>)\n",
      "Labels found\n",
      "tensor(0.6827, grad_fn=<NllLossBackward0>)\n",
      "Labels found\n",
      "tensor(0.3401, grad_fn=<NllLossBackward0>)\n",
      "Labels found\n",
      "tensor(0.3624, grad_fn=<NllLossBackward0>)\n",
      "Labels found\n",
      "tensor(0.5840, grad_fn=<NllLossBackward0>)\n",
      "Labels found\n",
      "tensor(0.2565, grad_fn=<NllLossBackward0>)\n",
      "Labels found\n",
      "tensor(0.4791, grad_fn=<NllLossBackward0>)\n",
      "Labels found\n",
      "tensor(0.5922, grad_fn=<NllLossBackward0>)\n",
      "Labels found\n",
      "tensor(0.1866, grad_fn=<NllLossBackward0>)\n",
      "Labels found\n",
      "tensor(0.2814, grad_fn=<NllLossBackward0>)\n",
      "Labels found\n",
      "tensor(0.2991, grad_fn=<NllLossBackward0>)\n",
      "Labels found\n",
      "tensor(0.3178, grad_fn=<NllLossBackward0>)\n"
     ]
    },
    {
     "name": "stderr",
     "output_type": "stream",
     "text": [
      "\n",
      "\n",
      "Training completed. Do not forget to share your model on huggingface.co/models =)\n",
      "\n",
      "\n"
     ]
    },
    {
     "data": {
      "text/plain": [
       "TrainOutput(global_step=189, training_loss=0.6893611547177431, metrics={'train_runtime': 2274.09, 'train_samples_per_second': 1.319, 'train_steps_per_second': 0.083, 'total_flos': 197340374016000.0, 'train_loss': 0.6893611547177431, 'epoch': 3.0})"
      ]
     },
     "execution_count": 24,
     "metadata": {},
     "output_type": "execute_result"
    }
   ],
   "source": [
    "# define the training arguments\n",
    "training_args = TrainingArguments(\n",
    "    output_dir='./results',          # output directory\n",
    "    num_train_epochs=3,              # total number of training epochs\n",
    "    per_device_train_batch_size=16,  # batch size per device during training\n",
    "    per_device_eval_batch_size=64,   # batch size for evaluation\n",
    "    warmup_steps=500,                # number of warmup steps for learning rate scheduler\n",
    "    weight_decay=0.01,               # strength of weight decay\n",
    "    logging_dir='./logs',            # directory for storing logs\n",
    "    logging_steps=10,\n",
    "    evaluation_strategy='steps',\n",
    "    eval_steps=50,\n",
    "    save_total_limit=2,\n",
    "    save_steps=50\n",
    ")\n",
    "\n",
    "# define the trainer object\n",
    "trainer = CustomTrainer(\n",
    "    model=model,                     # the instantiated 🤗 Transformers model to be trained\n",
    "    args=training_args,                     # training arguments, defined above\n",
    "    train_dataset=train_dataset,            # training dataset\n",
    "    eval_dataset=valid_dataset,               # evaluation dataset\n",
    "    #compute_metrics=lambda pred, labels: {\"accuracy\": accuracy_score(labels, pred.argmax(axis=1))},\n",
    "    compute_metrics=compute_metrics,\n",
    "    #data_collator=data_collator,\n",
    "    #tokenizer=tokenizer,\n",
    "    data_collator=lambda data: {'input_ids': torch.stack([item[0] for item in data]),\n",
    "                                'attention_mask': torch.stack([item[1] for item in data]),\n",
    "                                'token_type_ids': torch.stack([item[2] for item in data]),\n",
    "                                'labels': torch.tensor([item[3] for item in data])},\n",
    ")\n",
    "\n",
    "# start the training process\n",
    "trainer.train()"
   ]
  },
  {
   "cell_type": "markdown",
   "id": "94279740-94e3-47d9-b961-042b9e80f068",
   "metadata": {},
   "source": [
    "# Prediction"
   ]
  },
  {
   "cell_type": "code",
   "execution_count": 25,
   "id": "9117fabc-07db-4393-94b9-9b158430736e",
   "metadata": {},
   "outputs": [
    {
     "name": "stderr",
     "output_type": "stream",
     "text": [
      "***** Running Prediction *****\n",
      "  Num examples = 200\n",
      "  Batch size = 64\n"
     ]
    },
    {
     "name": "stdout",
     "output_type": "stream",
     "text": [
      "Labels found\n",
      "tensor(0.4939)\n"
     ]
    },
    {
     "data": {
      "text/html": [],
      "text/plain": [
       "<IPython.core.display.HTML object>"
      ]
     },
     "metadata": {},
     "output_type": "display_data"
    },
    {
     "name": "stdout",
     "output_type": "stream",
     "text": [
      "Labels found\n",
      "tensor(0.7058)\n",
      "Labels found\n",
      "tensor(1.0218)\n",
      "Labels found\n",
      "tensor(0.2191)\n",
      "(200, 4) (200,)\n"
     ]
    }
   ],
   "source": [
    "predictions = trainer.predict(test_dataset)\n",
    "print(predictions.predictions.shape, predictions.label_ids.shape)\n",
    "\n",
    "preds = np.argmax(predictions.predictions, axis=-1)"
   ]
  },
  {
   "cell_type": "code",
   "execution_count": 26,
   "id": "07cd2f6c-900e-4e37-a371-7f678cbb659f",
   "metadata": {},
   "outputs": [
    {
     "data": {
      "text/plain": [
       "{'accuracy': 0.63}"
      ]
     },
     "execution_count": 26,
     "metadata": {},
     "output_type": "execute_result"
    }
   ],
   "source": [
    "accuracy = evaluate.load(\"accuracy\")\n",
    "accuracy.compute(predictions=preds, references=predictions.label_ids)"
   ]
  },
  {
   "cell_type": "markdown",
   "id": "1c5f62de-1580-4689-8cf9-8abbe226eefb",
   "metadata": {},
   "source": [
    "On passe de 0.31 à 0.38 d'accuracy en finetunant sur 200 utterances"
   ]
  },
  {
   "cell_type": "markdown",
   "id": "d57c0486-fc1f-4cfc-b295-43a6895ed26a",
   "metadata": {},
   "source": [
    "# Evaluation"
   ]
  },
  {
   "cell_type": "code",
   "execution_count": 27,
   "id": "9182780d-c4ef-4ff4-8cdc-7b4334bf9819",
   "metadata": {},
   "outputs": [
    {
     "name": "stderr",
     "output_type": "stream",
     "text": [
      "***** Running Evaluation *****\n",
      "  Num examples = 200\n",
      "  Batch size = 64\n"
     ]
    },
    {
     "name": "stdout",
     "output_type": "stream",
     "text": [
      "Labels found\n",
      "tensor(0.6135)\n"
     ]
    },
    {
     "data": {
      "text/html": [
       "\n",
       "    <div>\n",
       "      \n",
       "      <progress value='4' max='4' style='width:300px; height:20px; vertical-align: middle;'></progress>\n",
       "      [4/4 00:28]\n",
       "    </div>\n",
       "    "
      ],
      "text/plain": [
       "<IPython.core.display.HTML object>"
      ]
     },
     "metadata": {},
     "output_type": "display_data"
    },
    {
     "name": "stdout",
     "output_type": "stream",
     "text": [
      "Labels found\n",
      "tensor(0.7651)\n",
      "Labels found\n",
      "tensor(0.6277)\n",
      "Labels found\n",
      "tensor(0.4445)\n"
     ]
    },
    {
     "data": {
      "text/plain": [
       "{'eval_loss': 0.659791111946106,\n",
       " 'eval_accuracy': 0.68,\n",
       " 'eval_runtime': 42.0975,\n",
       " 'eval_samples_per_second': 4.751,\n",
       " 'eval_steps_per_second': 0.095,\n",
       " 'epoch': 3.0}"
      ]
     },
     "execution_count": 27,
     "metadata": {},
     "output_type": "execute_result"
    }
   ],
   "source": [
    "trainer.evaluate()"
   ]
  },
  {
   "cell_type": "code",
   "execution_count": 15,
   "id": "3e78ab1f-ccaa-4082-bd72-92e2308c5cda",
   "metadata": {},
   "outputs": [],
   "source": [
    "# Prediction\n",
    "\n",
    "#model_inputs_test = tokenizer(dyda_test_sample['Utterance'], padding='max_length', truncation=True, max_length=512, return_tensors='pt')\n",
    "model_inputs_test = test_inputs['input_ids'].tolist()\n",
    "preds = []\n",
    "for input in model_inputs_test:\n",
    "    pred = model(torch.tensor([input]))\n",
    "    preds.append(pred)\n",
    "#preds = model(model_inputs_test)"
   ]
  },
  {
   "cell_type": "code",
   "execution_count": 16,
   "id": "ec2c864c-0e06-4ff7-aa31-933d8ad11f63",
   "metadata": {},
   "outputs": [
    {
     "name": "stdout",
     "output_type": "stream",
     "text": [
      "[SequenceClassifierOutput(loss=None, logits=tensor([[-0.1522, -0.1729,  0.0872,  0.0323]], grad_fn=<AddmmBackward0>), hidden_states=None, attentions=None), SequenceClassifierOutput(loss=None, logits=tensor([[-0.2559, -0.1825, -0.1750,  0.0066]], grad_fn=<AddmmBackward0>), hidden_states=None, attentions=None), SequenceClassifierOutput(loss=None, logits=tensor([[-0.3809, -0.1858, -0.0521,  0.0344]], grad_fn=<AddmmBackward0>), hidden_states=None, attentions=None), SequenceClassifierOutput(loss=None, logits=tensor([[-0.3262, -0.0846, -0.0612, -0.0484]], grad_fn=<AddmmBackward0>), hidden_states=None, attentions=None), SequenceClassifierOutput(loss=None, logits=tensor([[-0.2262, -0.1908,  0.0267, -0.0462]], grad_fn=<AddmmBackward0>), hidden_states=None, attentions=None)]\n"
     ]
    }
   ],
   "source": [
    "print(preds[:5])"
   ]
  },
  {
   "cell_type": "code",
   "execution_count": 1,
   "id": "5c3d43fc-e8c4-4c52-bd2f-5d22841bf854",
   "metadata": {},
   "outputs": [
    {
     "ename": "NameError",
     "evalue": "name 'CustomTrainer' is not defined",
     "output_type": "error",
     "traceback": [
      "\u001b[1;31m---------------------------------------------------------------------------\u001b[0m",
      "\u001b[1;31mNameError\u001b[0m                                 Traceback (most recent call last)",
      "Cell \u001b[1;32mIn[1], line 3\u001b[0m\n\u001b[0;32m      1\u001b[0m \u001b[38;5;66;03m# Evaluation\u001b[39;00m\n\u001b[1;32m----> 3\u001b[0m trainer \u001b[38;5;241m=\u001b[39m \u001b[43mCustomTrainer\u001b[49m(\n\u001b[0;32m      4\u001b[0m     model\u001b[38;5;241m=\u001b[39mmodel,                     \u001b[38;5;66;03m# the instantiated 🤗 Transformers model to be trained\u001b[39;00m\n\u001b[0;32m      5\u001b[0m     args\u001b[38;5;241m=\u001b[39mtraining_args,                     \u001b[38;5;66;03m# training arguments, defined above\u001b[39;00m\n\u001b[0;32m      6\u001b[0m     train_dataset\u001b[38;5;241m=\u001b[39mtrain_dataset,            \u001b[38;5;66;03m# training dataset\u001b[39;00m\n\u001b[0;32m      7\u001b[0m     eval_dataset\u001b[38;5;241m=\u001b[39mvalid_dataset,               \u001b[38;5;66;03m# evaluation dataset\u001b[39;00m\n\u001b[0;32m      8\u001b[0m     \u001b[38;5;66;03m#compute_metrics=lambda pred, labels: {\"accuracy\": accuracy_score(labels, pred.argmax(axis=1))},\u001b[39;00m\n\u001b[0;32m      9\u001b[0m     \u001b[38;5;66;03m#data_collator=data_collator,\u001b[39;00m\n\u001b[0;32m     10\u001b[0m     \u001b[38;5;66;03m#tokenizer=tokenizer,\u001b[39;00m\n\u001b[0;32m     11\u001b[0m     data_collator\u001b[38;5;241m=\u001b[39m\u001b[38;5;28;01mlambda\u001b[39;00m data: {\u001b[38;5;124m'\u001b[39m\u001b[38;5;124minput_ids\u001b[39m\u001b[38;5;124m'\u001b[39m: torch\u001b[38;5;241m.\u001b[39mstack([item[\u001b[38;5;241m0\u001b[39m] \u001b[38;5;28;01mfor\u001b[39;00m item \u001b[38;5;129;01min\u001b[39;00m data]),\n\u001b[0;32m     12\u001b[0m                                 \u001b[38;5;124m'\u001b[39m\u001b[38;5;124mattention_mask\u001b[39m\u001b[38;5;124m'\u001b[39m: torch\u001b[38;5;241m.\u001b[39mstack([item[\u001b[38;5;241m1\u001b[39m] \u001b[38;5;28;01mfor\u001b[39;00m item \u001b[38;5;129;01min\u001b[39;00m data]),\n\u001b[0;32m     13\u001b[0m                                 \u001b[38;5;124m'\u001b[39m\u001b[38;5;124mtoken_type_ids\u001b[39m\u001b[38;5;124m'\u001b[39m: torch\u001b[38;5;241m.\u001b[39mstack([item[\u001b[38;5;241m2\u001b[39m] \u001b[38;5;28;01mfor\u001b[39;00m item \u001b[38;5;129;01min\u001b[39;00m data]),\n\u001b[0;32m     14\u001b[0m                                 \u001b[38;5;124m'\u001b[39m\u001b[38;5;124mlabels\u001b[39m\u001b[38;5;124m'\u001b[39m: torch\u001b[38;5;241m.\u001b[39mtensor([item[\u001b[38;5;241m3\u001b[39m] \u001b[38;5;28;01mfor\u001b[39;00m item \u001b[38;5;129;01min\u001b[39;00m data])},\n\u001b[0;32m     15\u001b[0m )\n\u001b[0;32m     17\u001b[0m trainer\u001b[38;5;241m.\u001b[39mpredict(test_dataset)\n",
      "\u001b[1;31mNameError\u001b[0m: name 'CustomTrainer' is not defined"
     ]
    }
   ],
   "source": [
    "# Evaluation\n",
    "\n",
    "trainer = CustomTrainer(\n",
    "    model=model,                     # the instantiated 🤗 Transformers model to be trained\n",
    "    args=training_args,                     # training arguments, defined above\n",
    "    train_dataset=train_dataset,            # training dataset\n",
    "    eval_dataset=valid_dataset,               # evaluation dataset\n",
    "    #compute_metrics=lambda pred, labels: {\"accuracy\": accuracy_score(labels, pred.argmax(axis=1))},\n",
    "    #data_collator=data_collator,\n",
    "    #tokenizer=tokenizer,\n",
    "    data_collator=lambda data: {'input_ids': torch.stack([item[0] for item in data]),\n",
    "                                'attention_mask': torch.stack([item[1] for item in data]),\n",
    "                                'token_type_ids': torch.stack([item[2] for item in data]),\n",
    "                                'labels': torch.tensor([item[3] for item in data])},\n",
    ")\n",
    "\n",
    "trainer.predict(test_dataset)"
   ]
  },
  {
   "cell_type": "code",
   "execution_count": null,
   "id": "646d8aba-df54-491c-939a-c22e8e055bbe",
   "metadata": {},
   "outputs": [],
   "source": [
    "# Model explainability (confusion matrix) ?"
   ]
  }
 ],
 "metadata": {
  "kernelspec": {
   "display_name": "Python 3 (ipykernel)",
   "language": "python",
   "name": "python3"
  },
  "language_info": {
   "codemirror_mode": {
    "name": "ipython",
    "version": 3
   },
   "file_extension": ".py",
   "mimetype": "text/x-python",
   "name": "python",
   "nbconvert_exporter": "python",
   "pygments_lexer": "ipython3",
   "version": "3.10.8"
  }
 },
 "nbformat": 4,
 "nbformat_minor": 5
}
